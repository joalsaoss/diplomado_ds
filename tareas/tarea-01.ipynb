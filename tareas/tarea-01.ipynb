{
 "cells": [
  {
   "cell_type": "markdown",
   "id": "c770ddcf-217e-4f68-adb2-e3ec40564eb1",
   "metadata": {},
   "source": [
    "[![Open in Colab](https://colab.research.google.com/assets/colab-badge.svg)](https://colab.research.google.com/drive/1TCqg9KMd6pzXvqd1RFoAIOASZ7cn3gx8)"
   ]
  },
  {
   "cell_type": "markdown",
   "id": "d3aab2cb-57fa-4cf9-bde9-c638a94a55da",
   "metadata": {},
   "source": [
    "# Tarea 1"
   ]
  },
  {
   "cell_type": "markdown",
   "id": "18ff1ba6-8f86-43d1-9cdb-6d3cd4d8d382",
   "metadata": {},
   "source": [
    "<h2>Autor</h2>\n",
    "<h3>Autor: José Álvaro Rodríguez Botero</h3>\n",
    "<img src=\"./img/joalsaoss.jpeg\" alt=\"Python\" width=\"125\" height=\"150\">\n",
    "<h3>Perfil profesional</h3>\n",
    "<p>Ingeniero de sistemas y computación, cuento con larga experiencia en desarrollo de software utilizando los lenguajes de programación C# y Java. He trabajado como DBA utilizando los motores de bases de datos Oracle, SQL Server y PostGreSQL, así como motores de bases de datos no relaciones como MongoDB. He trabajado en el sector salud como jefe de sistemas de una IPS, en el sector educativo como instructor de formación profesional en el SENA y en la industria de desarrollo de software como DBA y jefe de desarrollo.</p>\n",
    "\n",
    "\n"
   ]
  },
  {
   "cell_type": "markdown",
   "id": "70a00807-4edc-4e9b-8c95-d99aef45dae6",
   "metadata": {},
   "source": [
    "<h1>Tipos de variables </h1>"
   ]
  },
  {
   "cell_type": "markdown",
   "id": "47579c16-7e91-4c46-977e-4e2e1eb03f44",
   "metadata": {},
   "source": [
    "<img src=\"./img/python.png\" alt=\"Python\" width=\"250\" height=\"300\">"
   ]
  },
  {
   "cell_type": "markdown",
   "id": "d628d8e6-cc81-4f96-a695-4ce37363d5b1",
   "metadata": {
    "tags": []
   },
   "source": [
    "<h2 id=\"variable\"> ¿Qué es una variable? </h2>\n",
    "<br>\n",
    "<p>    \n",
    "Una variable es una característica, número o cantidad que puede ser medida o contada. Son llamadas 'variables' porque el valor que toman puede variar. Los siguientes son ejemplos de variables:\n",
    "<ul>    \n",
    "    <li> Edad (21, 35, 62, ...)</li>\n",
    "    <li> Género (masculino, femenino)</li>\n",
    "    <li> Salario (2000000, 35000000, 45000000, ...)</li>\n",
    "    <li> Precio casa - millones COP (350, 570, ...)</li>\n",
    "    <li> País de nacimiento (Colombia, Argentina, Costa Rica, ...)</li>\n",
    "    <li> Color ojos (negro, verde, azul, ...)</li>\n",
    "    <li> Marca de Vehículo (Ford, Volkswagen, ...)</li>\n",
    "</ul>\n",
    "La mayoría de las variables pueden ser clasificadas en uno de los siguientes grupos:\n",
    "<ul>\n",
    "<li> Variables Numéricas</li> \n",
    "<li> Variables Categóricas</li> \n",
    "</ul>\n",
    "<br>\n",
    "Para profundizar un poco más puede ver el siguiente link\n",
    "<a href=\"https://www.youtube.com/watch?v=sQ08tqf-rXU\">Tipos de Variables - Estadistica para la Investigación</a>\n",
    "</p>"
   ]
  },
  {
   "cell_type": "code",
   "execution_count": 18,
   "id": "b4b679b3-6df6-4674-ae85-78cb2a423804",
   "metadata": {},
   "outputs": [],
   "source": [
    "# Ejemplo de variables\n",
    "\n",
    "pais_nacimiento = 'Colombia'\n",
    "Salario = 1000"
   ]
  },
  {
   "cell_type": "markdown",
   "id": "055e4840-d1e5-429c-a3f0-70f38515a2cd",
   "metadata": {},
   "source": [
    "<h2 id=\"varnum\"> Variables Númericas </h2>\n",
    "<br>\n",
    "<p>\n",
    "Los valores de las variables numéricas son números. Éstas a su vez pueden ser clasificadas:\n",
    "    <ul>    \n",
    "        <li>Variables discretas</li>\n",
    "        <li>Variables continuas</li>\n",
    "    </ul>\n",
    "<h3>Variables Discretas</h3>\n",
    "En la mayoría de las variables discretas, los valores son números enteros, y los valores que pueden tomar son finitos. Las siguientes son ejemplos de variables discretas:\n",
    "<ul>\n",
    "    <li>Número de cuentas bancarias de una persona (1, 4, 7, ...)</li>\n",
    "    <li>Número de mascotas en una familia</li>\n",
    "    <li>Número de hijos en una familia</li>\n",
    "</ul>\n",
    "\n",
    "<h3>Variable Continua</h3>\n",
    "\n",
    "Las variables continuas pueden tomar cualquier valor dentro de un rango específico. \n",
    "<br>\n",
    "Por ejemplo, \n",
    "el total pagado por un cliente en un supermercado es continuo. El cliente puede pagar 20000, 13100, 8320 y así sucesivamente. \n",
    "Otros ejemplos de variables continuas son:\n",
    "\n",
    "<ul>\n",
    "    <li>Precio casa - millones COP (en principio, puede tomar cualquier valor) (350, 570, ...)</li>\n",
    "    <li>Tiempo navegando una página web (3.4 segundos, 5.10 segundos, ...)</li>\n",
    "    <li>Deuda total como porcentaje del salario en el último mes (0.2, 0.001, 0, 0.75, ...)</li>\n",
    "</ul>    \n",
    "</p>"
   ]
  },
  {
   "cell_type": "code",
   "execution_count": 19,
   "id": "552ef9d4-4aee-48fd-9359-c592446d343f",
   "metadata": {},
   "outputs": [],
   "source": [
    "\"\"\"\n",
    "Variables Númericas \n",
    "\"\"\"\n",
    "# Discretas\n",
    "numero_de_hijos = 2\n",
    "dias_trabajados = 30\n",
    "\n",
    "# Continuas\n",
    "salario_en_USD = 12.5\n",
    "promedio = 32.4"
   ]
  },
  {
   "cell_type": "markdown",
   "id": "f640f8a4-9acd-4ab4-a33f-b1bfb0c1c39e",
   "metadata": {},
   "source": [
    "<h2>Variables Categóricas</h2>\n",
    "<br>\n",
    "<p>\n",
    "Los valores de una variable categórica se seleccionan de un grupo de categorías distintas, también conocidas como etiquetas. Las variables categóricas pueden ser variables de cadena (cadenas de caracteres), por ejemplo:\n",
    "<ul>\n",
    "    <li>Estado civil (soltero, casado, divorciado o viudo)<li>\n",
    "    <li>Variables numéricas que utilizan códigos numéricos para representar categorías (por ejemplo género, 0 = masculino y 1 = femenino).<li>\n",
    "</ul>\n",
    "\n",
    "Otros ejemplos incluyen:\n",
    "\n",
    "<ul>\n",
    "    <li>Propósito del préstamo (consolidación de deuda, compra vehículo, costos de boda, ...)</li>\n",
    "    <li>Proveedor de red celular (Tigo, Claro, ...)</li>\n",
    "    <li>Código Postal</li>\n",
    "</ul>\n",
    "Las variables categóricas pueden ser:\n",
    "\n",
    "<ul>\n",
    "    <li>Variables Ordinales</li>\n",
    "    <li>Variables Nominales</li>  \n",
    "</ul>\n",
    "\n",
    "<h3>Variables Ordinales</h3>\n",
    "Son variables categóricas cuyas categorías tienen alguna clasificación intrínseca o toman una escala establecida. Por ejemplo:\n",
    "\n",
    "<ul>\n",
    "    <li>Calificación en una evaluación estudiantil (A, B, C o D).</li>\n",
    "    <li>Días de la semana, Lunes = 1 y Domingo = 7.</li>\n",
    "    <li>Nivel de educación, con las categorías: Primaria, Secundaria, Pregrado, Maestría y Doctorado con rangos desde 1 a 5</li>\n",
    "</ul>\n",
    "\n",
    "<h3>Variables Nominales</h3>\n",
    "\n",
    "En una variable nominal, las categorías no obedecen a una clasificación intrínseca o un orden lógico. Por ejemplo, la variable “país de nacimiento”, con valores como Colombia, Argentina, Inglaterra, Alemania, etc., es nominal. Otros ejemplos de variables nominales incluyen:\n",
    "<ul>\n",
    "    <li>Color del vehículo (negro, azul, verde, ...)</li>\n",
    "    <li>Marca del Vehículo (Citroen, Peugeot, ...)</li>\n",
    "    <li>Ciudad (Manchester, London, Chester, ...)</li>\n",
    "</ul>\n",
    "En estas variables, no hay nada que indique un orden intrínseco en las categorías, y en principio, todas son iguales.\n",
    "</p>\n",
    "\n",
    "<h3>Variables de fecha y hora</h3>\n",
    "<p>\n",
    "Este es un caso especial de variables categóricas en el cual en vez de tener los grupos o categorías tradicionales, como color (azul, rojo, amarillo, etc..), o ciudad (Bogotá, Medellin, etc.), las categorías son fechas y/o horas. Por ejemplo:\n",
    "<ul>\n",
    "    <li>fecha de nacimiento ('29-08-1987', '12-01-2012')</li>\n",
    "    <li>fecha de aplicación ('2016-Dic', '2013-Marzo')</li>\n",
    "</ul>\n",
    "\n",
    "Las variables 'datetime' por su nombre en inglés, pueden tomar valores ya sea de fechas, de horas o de fechas y horas a la vez.\n",
    "\n",
    "Normalmente, no utilizamos este tipo de variables en su formato de fecha y hora porque:\n",
    "\n",
    "<ul>\n",
    "    <li>Las variables con fechas tienen un gran número de diferentes categorías</li>\n",
    "    <li>Una gran cantidad de información valiosa puede ser extraída de las variables 'datetime' si se pre-procesan correctamente</li>\n",
    "</ul>\n",
    "Además, usualmente con este tipo de variables, puede suceder que las fechas que se usaron en los datos para entrenar un modelo predictivo, no estén presentes en los datos que se usan para validar el modelo. De hecho, las variables pueden contener fechas en el futuro, con respecto a las fechas que se usaron para entrenar el modelo. Por lo tanto, el modelo predictivo no sabría qué hacer con ellas, porque nunca estuvieron presentes durante el modelamiento.\n",
    "</p>    "
   ]
  },
  {
   "cell_type": "code",
   "execution_count": 20,
   "id": "58853ac3-8345-4f79-95d0-932b4a90a9be",
   "metadata": {},
   "outputs": [],
   "source": [
    "\"\"\"\n",
    "Variables Categóricas\n",
    "\"\"\"\n",
    "# Ordinales\n",
    "mes = 3\n",
    "# Nominales\n",
    "nivel_educativo = 4\n",
    "# Fecha y hora\n",
    "fecha_transaccion = '2022-11-01'"
   ]
  },
  {
   "cell_type": "markdown",
   "id": "c5d835fd-f344-495d-ab51-6031130d4703",
   "metadata": {},
   "source": [
    "# Bibliografia\n",
    "\n",
    "* Python Feature Engineering Cookbook (Galli Soledad, 2020)\n",
    "* How to load files & insert images in Google Colabatory (ShengJun, 2022)\n",
    "* Embedding your image in google colab markdown (om patel, 2020)"
   ]
  },
  {
   "cell_type": "code",
   "execution_count": null,
   "id": "5409bde0-03fd-4c03-8f4c-1733d1bf23e2",
   "metadata": {},
   "outputs": [],
   "source": []
  }
 ],
 "metadata": {
  "kernelspec": {
   "display_name": "Python 3 (ipykernel)",
   "language": "python",
   "name": "python3"
  },
  "language_info": {
   "codemirror_mode": {
    "name": "ipython",
    "version": 3
   },
   "file_extension": ".py",
   "mimetype": "text/x-python",
   "name": "python",
   "nbconvert_exporter": "python",
   "pygments_lexer": "ipython3",
   "version": "3.9.13"
  }
 },
 "nbformat": 4,
 "nbformat_minor": 5
}
