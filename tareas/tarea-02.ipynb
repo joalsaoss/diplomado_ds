{
 "cells": [
  {
   "cell_type": "markdown",
   "id": "3e3ef9bd-7946-437b-b0c7-7d30d1346b02",
   "metadata": {},
   "source": [
    "# Tarea 02\n",
    "## Funciones "
   ]
  },
  {
   "cell_type": "markdown",
   "id": "24ff5bab-4df7-483a-ac8f-160f3ebdeef9",
   "metadata": {},
   "source": [
    "### Librerias"
   ]
  },
  {
   "cell_type": "code",
   "execution_count": 5,
   "id": "9ce14cfb-df5d-45b5-9ca8-ff2b679476e3",
   "metadata": {},
   "outputs": [],
   "source": [
    "from datetime import date \n",
    "import pyautogui"
   ]
  },
  {
   "cell_type": "markdown",
   "id": "915e8c9b-56a1-4f56-9f18-66b743212d5e",
   "metadata": {},
   "source": [
    "1. Escriba una función  que reciba la fecha de nacimiento de un a persona y calcule la edad de la persona"
   ]
  },
  {
   "cell_type": "code",
   "execution_count": 8,
   "id": "a72d20c4-32da-453b-b86c-d4f2f9e9ee39",
   "metadata": {},
   "outputs": [
    {
     "name": "stdout",
     "output_type": "stream",
     "text": [
      "74 Años\n"
     ]
    }
   ],
   "source": [
    "def calcular_edad(fecha_nac):\n",
    "    hoy = date.today()\n",
    "    edad = hoy.year - fecha_nac.year - ((hoy.month, hoy.day)<(fecha_nac.month, fecha_nac.day))\n",
    "    \n",
    "    return edad\n",
    "\n",
    "\"\"\"\n",
    "Ingresar fecha de la siguiente manera\n",
    "Año: Entero de cuatro digitos\n",
    "Mes: Entero de 1 digito (1-9) 0 de 2 digitos (10-12)\n",
    "Dia: Entero de 1 digito (1-9) o dos digitos (mayor de 10 y hasta el número máximo de días del mes\n",
    "\"\"\"\n",
    "\n",
    "print(calcular_edad(date(1948, 2, 16)), \"Años\")"
   ]
  },
  {
   "cell_type": "markdown",
   "id": "451adbd2-f7c6-446f-9d61-92eda10fc918",
   "metadata": {},
   "source": [
    "2. Crea una función EscribirCentrado, que reciba como parámetro un texto y lo escriba centrado en pantalla (suponiendo una anchura de 80 columnas; pista: deberás escribir 40 - longitud/2 espacios antes del texto).  "
   ]
  },
  {
   "cell_type": "code",
   "execution_count": 6,
   "id": "d7180430-0176-417a-bc7c-73e25af54556",
   "metadata": {},
   "outputs": [
    {
     "name": "stdout",
     "output_type": "stream",
     "text": [
      "2240\n",
      "1260\n"
     ]
    }
   ],
   "source": [
    "# Obtener alto y ancho de la pantalla (en pixeles)\n",
    "width, height= pyautogui.size()\n",
    "print(width)\n",
    "print(height)\n",
    "print("
   ]
  },
  {
   "cell_type": "markdown",
   "id": "fb261ac1-a7bc-4886-9931-3adc93f297b8",
   "metadata": {},
   "source": [
    "3. Construya una función decorada que reciba un texto y lo escriba marcado con Markdown en itálica y resaltada (bold). Revise la lección de decoradores, no vista en clase."
   ]
  },
  {
   "cell_type": "code",
   "execution_count": null,
   "id": "4051aadf-6532-4f30-b733-26dbc3ccd33d",
   "metadata": {},
   "outputs": [],
   "source": []
  },
  {
   "cell_type": "markdown",
   "id": "b6ac32ba-55cc-48b5-9d9b-1d8f0ba688d3",
   "metadata": {},
   "source": [
    "4.  Crea un programa que pida dos número enteros al usuario y diga si alguno de ellos es múltiplo del otro. "
   ]
  },
  {
   "cell_type": "code",
   "execution_count": null,
   "id": "ca3ecfaa-8f74-4bf7-a7ad-1e53335aec27",
   "metadata": {},
   "outputs": [],
   "source": []
  },
  {
   "cell_type": "markdown",
   "id": "824c49ba-9b25-4205-a5a1-f56d309f7d2d",
   "metadata": {},
   "source": [
    "5. Crear una función re reciba una lista  de 24 valores de temperatura leída  hora en un día y que calcule la temperatura media  Cree una lista con 24 valores de temperatura de un día de Bogotá y pruebe su función. Invente los datos."
   ]
  },
  {
   "cell_type": "code",
   "execution_count": null,
   "id": "be058bde-241b-467e-b3c4-1a40b7475051",
   "metadata": {},
   "outputs": [],
   "source": []
  },
  {
   "cell_type": "markdown",
   "id": "38f1a75d-0de5-4e46-a78d-ee9f48fbd174",
   "metadata": {},
   "source": [
    "6. Crea un función “ConvertirEspaciado”, que reciba como parámetro un texto y devuelve una cadena con un espacio adicional tras cada letra. Por ejemplo, “Hola, tú” devolverá “H o l a , t ú “.  Pruebe"
   ]
  },
  {
   "cell_type": "code",
   "execution_count": null,
   "id": "5b3a7b85-b200-4cf6-bff5-0168d11d002a",
   "metadata": {},
   "outputs": [],
   "source": []
  },
  {
   "cell_type": "markdown",
   "id": "da8e92ec-c868-4ab9-8a32-cf31cc41b36f",
   "metadata": {},
   "source": [
    "7. Crea una función “calcularMaxMin” que recibe una arreglo con valores numérico y devuelve el valor máximo y el mínimo."
   ]
  },
  {
   "cell_type": "code",
   "execution_count": null,
   "id": "5837206a-95f3-4448-9df8-8893fe75a50c",
   "metadata": {},
   "outputs": [],
   "source": []
  },
  {
   "cell_type": "markdown",
   "id": "132a97f5-8c67-4700-820b-73739bb88450",
   "metadata": {},
   "source": [
    "8.  Diseñar una función que calcule el área y el perímetro de una circunferencia."
   ]
  },
  {
   "cell_type": "code",
   "execution_count": null,
   "id": "42374bff-3e63-437b-a595-55f9b3adf409",
   "metadata": {},
   "outputs": [],
   "source": []
  },
  {
   "cell_type": "markdown",
   "id": "d4c40755-31dd-4248-b0ca-0189ed52efbe",
   "metadata": {},
   "source": [
    "9. Crear una función  llamada “Login”, que recibe un nombre de usuario y una contraseña y devuelva Verdadero si el nombre de usuario es “usuario1” y la contraseña es “asdasd”. Además recibe el número de intentos que se ha intentado hacer login y si no se ha podido hacer login incremente este valor."
   ]
  },
  {
   "cell_type": "code",
   "execution_count": null,
   "id": "3f3817db-96b1-48e9-9265-94d4b4349db3",
   "metadata": {},
   "outputs": [],
   "source": []
  },
  {
   "cell_type": "markdown",
   "id": "ec0b6407-3cb9-47fd-9fc4-de7ee5c8e3cc",
   "metadata": {},
   "source": [
    "10. Crear una función recursiva que permita calcular el factorial de un número. Realiza un programa principal donde se lea un entero y se muestre el resultado del factorial. Revise la lección de funciones."
   ]
  },
  {
   "cell_type": "code",
   "execution_count": null,
   "id": "50a3510b-6415-48c1-9ece-bcaf1be79a68",
   "metadata": {},
   "outputs": [],
   "source": []
  },
  {
   "cell_type": "markdown",
   "id": "e909306a-d9dc-4de2-bd59-edd17864e460",
   "metadata": {},
   "source": [
    "11. Escribir dos funciones que permitan calcular:\n",
    "    * La cantidad de segundos en un tiempo dado en horas, minutos y segundos.\n",
    "    * La cantidad de horas, minutos y segundos de un tiempo dado en segundos"
   ]
  },
  {
   "cell_type": "code",
   "execution_count": null,
   "id": "51e46096-dfbc-4daf-ba6b-040cb8b8a9ca",
   "metadata": {},
   "outputs": [],
   "source": []
  },
  {
   "cell_type": "markdown",
   "id": "5bf343f9-8c67-4b54-9d61-c8284a403ebd",
   "metadata": {},
   "source": [
    "12. Crea una función  que lea una tupla, invierta los valores de la tupla y regrese una nueva tupla invirtiendo los valores. Recuerde que las tuplas son inmutables."
   ]
  },
  {
   "cell_type": "code",
   "execution_count": null,
   "id": "642d5339-2293-48a8-a3ac-61b28cc5a27f",
   "metadata": {},
   "outputs": [],
   "source": []
  },
  {
   "cell_type": "markdown",
   "id": "9030d303-e104-4494-bf84-40f9ff263e68",
   "metadata": {},
   "source": [
    "13. Escriba una función que lea una lista y calcule la media geométrica de sus valores, usando funtools.reduce."
   ]
  },
  {
   "cell_type": "code",
   "execution_count": null,
   "id": "18797bda-4cdb-4402-83c9-631b07d46a90",
   "metadata": {},
   "outputs": [],
   "source": []
  }
 ],
 "metadata": {
  "kernelspec": {
   "display_name": "Python 3 (ipykernel)",
   "language": "python",
   "name": "python3"
  },
  "language_info": {
   "codemirror_mode": {
    "name": "ipython",
    "version": 3
   },
   "file_extension": ".py",
   "mimetype": "text/x-python",
   "name": "python",
   "nbconvert_exporter": "python",
   "pygments_lexer": "ipython3",
   "version": "3.9.13"
  }
 },
 "nbformat": 4,
 "nbformat_minor": 5
}
