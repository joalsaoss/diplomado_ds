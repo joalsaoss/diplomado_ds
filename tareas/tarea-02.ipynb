{
 "cells": [
  {
   "cell_type": "markdown",
   "id": "2324e7bd-0141-40ec-9efe-a796db4b1cc0",
   "metadata": {},
   "source": [
    "[![Open in Colab](https://colab.research.google.com/assets/colab-badge.svg)](https://colab.research.google.com/drive/125EEmI-y7mnwsgbv-IgaoNVCr_yWq2pr#scrollTo=18797bda-4cdb-4402-83c9-631b07d46a90)"
   ]
  },
  {
   "cell_type": "markdown",
   "id": "3e3ef9bd-7946-437b-b0c7-7d30d1346b02",
   "metadata": {},
   "source": [
    "# Tarea 02\n",
    "## Funciones "
   ]
  },
  {
   "cell_type": "markdown",
   "id": "24ff5bab-4df7-483a-ac8f-160f3ebdeef9",
   "metadata": {},
   "source": [
    "### Librerias"
   ]
  },
  {
   "cell_type": "code",
   "execution_count": 36,
   "id": "9ce14cfb-df5d-45b5-9ca8-ff2b679476e3",
   "metadata": {},
   "outputs": [],
   "source": [
    "from datetime import date \n",
    "from IPython.display import Markdown, display\n",
    "import math\n",
    "from functools import reduce"
   ]
  },
  {
   "cell_type": "markdown",
   "id": "915e8c9b-56a1-4f56-9f18-66b743212d5e",
   "metadata": {},
   "source": [
    "1. Escriba una función  que reciba la fecha de nacimiento de un a persona y calcule la edad de la persona"
   ]
  },
  {
   "cell_type": "code",
   "execution_count": 37,
   "id": "a72d20c4-32da-453b-b86c-d4f2f9e9ee39",
   "metadata": {},
   "outputs": [
    {
     "name": "stdout",
     "output_type": "stream",
     "text": [
      "74 Años\n"
     ]
    }
   ],
   "source": [
    "def calcular_edad(fecha_nac):\n",
    "    hoy = date.today()\n",
    "    edad = hoy.year - fecha_nac.year - ((hoy.month, hoy.day)<(fecha_nac.month, fecha_nac.day))\n",
    "    \n",
    "    return edad\n",
    "\n",
    "\"\"\"\n",
    "Ingresar fecha de la siguiente manera\n",
    "Año: Entero de cuatro digitos\n",
    "Mes: Entero de 1 digito (1-9) 0 de 2 digitos (10-12)\n",
    "Dia: Entero de 1 digito (1-9) o dos digitos (mayor de 10 y hasta el número máximo de días del mes\n",
    "\"\"\"\n",
    "\n",
    "print(calcular_edad(date(1948, 2, 16)), \"Años\")"
   ]
  },
  {
   "cell_type": "markdown",
   "id": "451adbd2-f7c6-446f-9d61-92eda10fc918",
   "metadata": {},
   "source": [
    "2. Crea una función EscribirCentrado, que reciba como parámetro un texto y lo escriba centrado en pantalla (suponiendo una anchura de 80 columnas; pista: deberás escribir 40 - longitud/2 espacios antes del texto).  "
   ]
  },
  {
   "cell_type": "code",
   "execution_count": 39,
   "id": "d7180430-0176-417a-bc7c-73e25af54556",
   "metadata": {},
   "outputs": [
    {
     "name": "stdin",
     "output_type": "stream",
     "text": [
      "Ingrese un texto: hola a todos\n"
     ]
    },
    {
     "name": "stdout",
     "output_type": "stream",
     "text": [
      "                                                                                    hola a todos\n"
     ]
    }
   ],
   "source": [
    "def imprime_centrado(mensaje):\n",
    "    len_mensaje = len(mensaje)\n",
    "    str_space = \"\"\n",
    "    \n",
    "    if (len_mensaje%2==0):\n",
    "        len_total = int((180/2) - (len_mensaje/2))\n",
    "    else:\n",
    "        len_total = int((180/2) - ((len_mensaje-1)/2))\n",
    "    \n",
    "    for i in range(len_total):\n",
    "        str_space += \" \"\n",
    "        \n",
    "    str_mensaje = str_space + mensaje\n",
    "    \n",
    "    print(str_mensaje)\n",
    "\n",
    "imprime_centrado(input('Ingrese un texto:'))"
   ]
  },
  {
   "cell_type": "markdown",
   "id": "fb261ac1-a7bc-4886-9931-3adc93f297b8",
   "metadata": {},
   "source": [
    "3. Construya una función decorada que reciba un texto y lo escriba marcado con Markdown en itálica y resaltada (bold). Revise la lección de decoradores, no vista en clase."
   ]
  },
  {
   "cell_type": "code",
   "execution_count": 40,
   "id": "4051aadf-6532-4f30-b733-26dbc3ccd33d",
   "metadata": {},
   "outputs": [
    {
     "name": "stdin",
     "output_type": "stream",
     "text": [
      "Ingrese un mensaje: hola\n"
     ]
    },
    {
     "data": {
      "text/markdown": [
       "***hola***"
      ],
      "text/plain": [
       "<IPython.core.display.Markdown object>"
      ]
     },
     "metadata": {},
     "output_type": "display_data"
    }
   ],
   "source": [
    "def returnmd(func):\n",
    "    def envoltura(texto, md):\n",
    "        strmd = f\"{md}{texto}{md}\"\n",
    "        return func(strmd, md)\n",
    "    return envoltura\n",
    "\n",
    "@returnmd\n",
    "def mensajemd(mensaje, md):\n",
    "    return f'{mensaje}'\n",
    "\n",
    "display(Markdown(mensajemd(input('Ingrese un mensaje:'), '***')))"
   ]
  },
  {
   "cell_type": "markdown",
   "id": "b6ac32ba-55cc-48b5-9d9b-1d8f0ba688d3",
   "metadata": {},
   "source": [
    "4.  Crea un programa que pida dos número enteros al usuario y diga si alguno de ellos es múltiplo del otro. "
   ]
  },
  {
   "cell_type": "code",
   "execution_count": 41,
   "id": "ca3ecfaa-8f74-4bf7-a7ad-1e53335aec27",
   "metadata": {},
   "outputs": [
    {
     "name": "stdin",
     "output_type": "stream",
     "text": [
      "Ingrese valor 1: 10\n",
      "Ingrese valor 2: 5\n"
     ]
    },
    {
     "name": "stdout",
     "output_type": "stream",
     "text": [
      "('El número 2 es multiplo del número 1.', 'El número 1 No es multiplo del número 2.')\n"
     ]
    }
   ],
   "source": [
    "def multiplos():\n",
    "    pval1 = int(input('Ingrese valor 1:'))\n",
    "    pval2 = int(input('Ingrese valor 2:')) \n",
    "    \n",
    "    if pval1%pval2 == 0:\n",
    "        mensaje1 = \"El número 2 es multiplo del número 1.\"\n",
    "    else:\n",
    "        mensaje1 = \"El número 2 No es multiplo del número 1.\"\n",
    "\n",
    "    if pval2%pval1 == 0:\n",
    "        mensaje2 = \"El número 1 es multiplo del número 2.\"\n",
    "    else:\n",
    "        mensaje2 = \"El número 1 No es multiplo del número 2.\"\n",
    "    \n",
    "    return mensaje1, mensaje2\n",
    "\n",
    "result = multiplos()\n",
    "print(result)    "
   ]
  },
  {
   "cell_type": "markdown",
   "id": "824c49ba-9b25-4205-a5a1-f56d309f7d2d",
   "metadata": {},
   "source": [
    "5. Crear una función re reciba una lista  de 24 valores de temperatura leída  hora en un día y que calcule la temperatura media  Cree una lista con 24 valores de temperatura de un día de Bogotá y pruebe su función. Invente los datos."
   ]
  },
  {
   "cell_type": "code",
   "execution_count": 42,
   "id": "be058bde-241b-467e-b3c4-1a40b7475051",
   "metadata": {},
   "outputs": [
    {
     "name": "stdout",
     "output_type": "stream",
     "text": [
      "12.958333333333334\n"
     ]
    }
   ],
   "source": [
    "def avgtemp(lst_temp):\n",
    "    return sum(lst_temp) / len(lst_temp)\n",
    "\n",
    "lst_t = [12,14,10,12,16,12,11,14,13,11,12,13,15,14,12,12,15,11,12,12,13,12,17,16]\n",
    "\n",
    "avg_temp = avgtemp(lst_t)\n",
    "print(avg_temp)"
   ]
  },
  {
   "cell_type": "markdown",
   "id": "38f1a75d-0de5-4e46-a78d-ee9f48fbd174",
   "metadata": {},
   "source": [
    "6. Crea un función “ConvertirEspaciado”, que reciba como parámetro un texto y devuelve una cadena con un espacio adicional tras cada letra. Por ejemplo, “Hola, tú” devolverá “H o l a , t ú “.  Pruebe"
   ]
  },
  {
   "cell_type": "code",
   "execution_count": 43,
   "id": "5b3a7b85-b200-4cf6-bff5-0168d11d002a",
   "metadata": {},
   "outputs": [
    {
     "name": "stdin",
     "output_type": "stream",
     "text": [
      "Ingrese un texto: Hola a todos\n"
     ]
    },
    {
     "name": "stdout",
     "output_type": "stream",
     "text": [
      "H o l a   a   t o d o s "
     ]
    }
   ],
   "source": [
    "def convertir_espacio(texto):\n",
    "    for element in texto:\n",
    "        print(element, end=' ')\n",
    "\n",
    "convertir_espacio(input('Ingrese un texto:'))"
   ]
  },
  {
   "cell_type": "markdown",
   "id": "da8e92ec-c868-4ab9-8a32-cf31cc41b36f",
   "metadata": {},
   "source": [
    "7. Crea una función “calcularMaxMin” que recibe una arreglo con valores numérico y devuelve el valor máximo y el mínimo."
   ]
  },
  {
   "cell_type": "code",
   "execution_count": 44,
   "id": "5837206a-95f3-4448-9df8-8893fe75a50c",
   "metadata": {},
   "outputs": [
    {
     "name": "stdout",
     "output_type": "stream",
     "text": [
      "Valor máximo: 84, Valor mínimo -98\n"
     ]
    }
   ],
   "source": [
    "def minimax(lst_val):\n",
    "    max_value = max(lst_val)\n",
    "    min_value = min(lst_val)\n",
    "    \n",
    "    return max_value, min_value\n",
    "\n",
    "lstvalues = [4, 3, 23, 43, 54, 12, 1, -1, 84, -98]\n",
    "\n",
    "result = minimax(lstvalues)\n",
    "\n",
    "print('Valor máximo: {}, Valor mínimo {}'.format(result[0], result[1]))"
   ]
  },
  {
   "cell_type": "markdown",
   "id": "132a97f5-8c67-4700-820b-73739bb88450",
   "metadata": {},
   "source": [
    "8.  Diseñar una función que calcule el área y el perímetro de una circunferencia."
   ]
  },
  {
   "cell_type": "code",
   "execution_count": 45,
   "id": "42374bff-3e63-437b-a595-55f9b3adf409",
   "metadata": {},
   "outputs": [
    {
     "name": "stdin",
     "output_type": "stream",
     "text": [
      "Ingrese el radio: 3\n"
     ]
    },
    {
     "name": "stdout",
     "output_type": "stream",
     "text": [
      "Area: 28.274333882308138, Perimetro 18.84955592153876 Radio 3\n"
     ]
    }
   ],
   "source": [
    "def area_perim_ci(radio):\n",
    "    perim = 2 * math.pi * radio\n",
    "    area = math.pi * math.pow(radio, 2)\n",
    "    return area, perim\n",
    "\n",
    "radio = int(input(\"Ingrese el radio:\"))\n",
    "result = area_perim_ci(radio)\n",
    "\n",
    "print('Area: {}, Perimetro {} Radio {}'.format(result[0], result[1], radio))"
   ]
  },
  {
   "cell_type": "markdown",
   "id": "d4c40755-31dd-4248-b0ca-0189ed52efbe",
   "metadata": {},
   "source": [
    "9. Crear una función  llamada “Login”, que recibe un nombre de usuario y una contraseña y devuelva Verdadero si el nombre de usuario es “usuario1” y la contraseña es “asdasd”. Además recibe el número de intentos que se ha intentado hacer login y si no se ha podido hacer login incremente este valor."
   ]
  },
  {
   "cell_type": "code",
   "execution_count": 46,
   "id": "3f3817db-96b1-48e9-9265-94d4b4349db3",
   "metadata": {},
   "outputs": [
    {
     "name": "stdin",
     "output_type": "stream",
     "text": [
      "Ingrese el nombre de usuario: usuario1\n",
      "Ingrese la contraseña: asdasd\n"
     ]
    },
    {
     "data": {
      "text/plain": [
       "'Verdadero'"
      ]
     },
     "execution_count": 46,
     "metadata": {},
     "output_type": "execute_result"
    }
   ],
   "source": [
    "def login(user, passw):\n",
    "    contador = 0\n",
    "    mensaje = ''\n",
    "    while contador < 5:\n",
    "        if user=='usuario1' and passw=='asdasd':\n",
    "            mensaje = 'Verdadero'\n",
    "            break\n",
    "        else:\n",
    "            contador += 1\n",
    "            mensaje = 'Falso'\n",
    "            \n",
    "        user = input(\"Ingrese el nombre de usuario:\")\n",
    "        passw = input(\"Ingrese la contraseña:\")\n",
    "        \n",
    "    if contador >= 5:\n",
    "        mensaje = 'Supero el numero maximo de intentos'\n",
    "        \n",
    "    return mensaje\n",
    "\n",
    "login(input(\"Ingrese el nombre de usuario:\"), input(\"Ingrese la contraseña:\"))"
   ]
  },
  {
   "cell_type": "markdown",
   "id": "ec0b6407-3cb9-47fd-9fc4-de7ee5c8e3cc",
   "metadata": {},
   "source": [
    "10. Crear una función recursiva que permita calcular el factorial de un número. Realiza un programa principal donde se lea un entero y se muestre el resultado del factorial. Revise la lección de funciones."
   ]
  },
  {
   "cell_type": "code",
   "execution_count": 47,
   "id": "50a3510b-6415-48c1-9ece-bcaf1be79a68",
   "metadata": {},
   "outputs": [
    {
     "name": "stdin",
     "output_type": "stream",
     "text": [
      "Ingrese un numero entero: 5\n"
     ]
    },
    {
     "name": "stdout",
     "output_type": "stream",
     "text": [
      "El factorial de 5 es:120\n"
     ]
    }
   ],
   "source": [
    "def factorial(n):\n",
    "    if n==1:\n",
    "        return 1\n",
    "    else:\n",
    "        return n * factorial(n-1)\n",
    "\n",
    "num = int(input('Ingrese un numero entero:'))\n",
    "result = factorial(num)\n",
    "print(\"El factorial de {} es:{}\".format(num, result))"
   ]
  },
  {
   "cell_type": "markdown",
   "id": "e909306a-d9dc-4de2-bd59-edd17864e460",
   "metadata": {},
   "source": [
    "11. Escribir dos funciones que permitan calcular:\n",
    "    * La cantidad de segundos en un tiempo dado en horas, minutos y segundos.\n",
    "    * La cantidad de horas, minutos y segundos de un tiempo dado en segundos"
   ]
  },
  {
   "cell_type": "code",
   "execution_count": 48,
   "id": "51e46096-dfbc-4daf-ba6b-040cb8b8a9ca",
   "metadata": {},
   "outputs": [
    {
     "name": "stdout",
     "output_type": "stream",
     "text": [
      "Segundos:5025\n",
      "Hora:1:23:45\n"
     ]
    }
   ],
   "source": [
    "def convert_seconds(time_str):\n",
    "    \"\"\"Obtener segundos desde la hora ingresada\"\"\"\n",
    "    h, m, s = time_str.split(':')\n",
    "    return int(h) * 3600 + int(m) * 60 + int(s)\n",
    "\n",
    "print('Segundos:{}'.format(convert_seconds('1:23:45')))\n",
    "\n",
    "\n",
    "def convert_hhmmss(segundos):\n",
    "    segundos = segundos % (24 * 3600)\n",
    "    horas = segundos // 3600\n",
    "    segundos %= 3600\n",
    "    minutos = segundos // 60\n",
    "    segundos %= 60\n",
    "     \n",
    "    return \"%d:%02d:%02d\" % (horas, minutos, segundos)\n",
    "     \n",
    "n = 5025\n",
    "print('Hora:{}'.format(convert_hhmmss(n)))"
   ]
  },
  {
   "cell_type": "markdown",
   "id": "5bf343f9-8c67-4b54-9d61-c8284a403ebd",
   "metadata": {},
   "source": [
    "12. Crea una función  que lea una tupla, invierta los valores de la tupla y regrese una nueva tupla invirtiendo los valores. Recuerde que las tuplas son inmutables."
   ]
  },
  {
   "cell_type": "code",
   "execution_count": 49,
   "id": "642d5339-2293-48a8-a3ac-61b28cc5a27f",
   "metadata": {},
   "outputs": [
    {
     "name": "stdout",
     "output_type": "stream",
     "text": [
      "(10, 9, 8, 7, 6, 5, 4, 3, 2, 1)\n"
     ]
    }
   ],
   "source": [
    "def invertir_tupa(tupla):\n",
    "    nueva_tupla = tupla[::-1]\n",
    "    return nueva_tupla\n",
    "      \n",
    "tupla = (1, 2, 3, 4, 5, 6, 7, 8, 9, 10)\n",
    "print(invertir_tupa(tupla))"
   ]
  },
  {
   "cell_type": "markdown",
   "id": "9030d303-e104-4494-bf84-40f9ff263e68",
   "metadata": {},
   "source": [
    "13. Escriba una función que lea una lista y calcule la media geométrica de sus valores, usando funtools.reduce."
   ]
  },
  {
   "cell_type": "code",
   "execution_count": 50,
   "id": "18797bda-4cdb-4402-83c9-631b07d46a90",
   "metadata": {},
   "outputs": [
    {
     "name": "stdout",
     "output_type": "stream",
     "text": [
      "La media geometrica de la lista es: 0.46425395124764507\n"
     ]
    }
   ],
   "source": [
    "def media_geom(lst):\n",
    "    tot = reduce(lambda a, b: a * b, lst)\n",
    "    return math.pow(tot, (1/len(lst)))\n",
    "\n",
    "lst = [0.5, 0.9, 0.55, 0.41, 0.35, 0.20, 0.62, 0.49]\n",
    "mediageom = media_geom(lst)\n",
    "  \n",
    "print(\"La media geometrica de la lista es: {}\".format(mediageom))"
   ]
  }
 ],
 "metadata": {
  "kernelspec": {
   "display_name": "Python 3 (ipykernel)",
   "language": "python",
   "name": "python3"
  },
  "language_info": {
   "codemirror_mode": {
    "name": "ipython",
    "version": 3
   },
   "file_extension": ".py",
   "mimetype": "text/x-python",
   "name": "python",
   "nbconvert_exporter": "python",
   "pygments_lexer": "ipython3",
   "version": "3.9.13"
  }
 },
 "nbformat": 4,
 "nbformat_minor": 5
}
