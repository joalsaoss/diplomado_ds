{
 "cells": [
  {
   "cell_type": "markdown",
   "id": "d1f3fe0b-86e3-4b5b-a5f8-c4a8d5dcf294",
   "metadata": {},
   "source": [
    "# Tarea 03 - Programación O.O.  y Estadística"
   ]
  },
  {
   "cell_type": "markdown",
   "id": "91a399e6-a4f0-42c0-833d-d0a36a1e1772",
   "metadata": {},
   "source": [
    "1. Consiga el conjunto de datos iris.csv. En el repositorio de Aprendizaje Profundo encuentra alguna versión.\n",
    "\n"
   ]
  },
  {
   "cell_type": "markdown",
   "id": "93ee819f-9dec-40e1-bf04-0225ca2f7414",
   "metadata": {},
   "source": [
    "2. Escriba una clase iterable que tenga la siguiente funcionalidad\n",
    "    \n",
    "    * Al instanciar un objeto, lee el archivo de datos y lo coloca en un dataframe interno en la clase.\n",
    "    \n",
    "    * Cada vez que se le pidan datos, debe regresar los dos siguientes datos.\n",
    "    \n",
    "    * Entregue un error si los datos se han agotado\n",
    "\n",
    "Pruebe su clase\n",
    "\n"
   ]
  },
  {
   "cell_type": "markdown",
   "id": "491df55c-f5cc-4997-ad90-ff3b6da473c6",
   "metadata": {},
   "source": [
    "3. Escriba una clase con las siguientes funcionalidades:\n",
    "\n",
    "    * Al instanciar un objeto, lee un conjunto de datos numéricos. Por ejemplo puede usar el mismo conjunto de datos iris.csv. Instancie los datos en un dataframe de Pandas\n",
    "    \n",
    "    * Implemente un método que calcule las estadísticas descriptivas básicas de cada una de las variables.\n",
    "    \n",
    "    * Implemente un método que entregue los nombre de las variables disponibles.\n",
    "    \n",
    "    * Implemente un método que reciba el nombre de una variable disponible dentro del objeto ( en el  dataframe) y regrese: sus estadísticas básicas:  media, mediana, desviación, percentiles q25, q50, q75 y dibuje un histograma de la distribución de la variable.\n",
    "\n",
    "Pruebe su clase.\n",
    "\n",
    "Construya dos cuadernos. Uno por cada clase implementada y probada. Súbalas a su repositorio de Github y coloque en la solución los respectivos enlaces."
   ]
  },
  {
   "cell_type": "code",
   "execution_count": null,
   "id": "be24b07f-94db-40b4-a31f-e9273fd9ffad",
   "metadata": {},
   "outputs": [],
   "source": []
  }
 ],
 "metadata": {
  "kernelspec": {
   "display_name": "Python 3 (ipykernel)",
   "language": "python",
   "name": "python3"
  },
  "language_info": {
   "codemirror_mode": {
    "name": "ipython",
    "version": 3
   },
   "file_extension": ".py",
   "mimetype": "text/x-python",
   "name": "python",
   "nbconvert_exporter": "python",
   "pygments_lexer": "ipython3",
   "version": "3.9.13"
  }
 },
 "nbformat": 4,
 "nbformat_minor": 5
}
